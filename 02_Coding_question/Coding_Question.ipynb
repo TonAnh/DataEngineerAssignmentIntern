{
 "cells": [
  {
   "cell_type": "markdown",
   "id": "34743bb9",
   "metadata": {},
   "source": [
    "# Coding Question"
   ]
  },
  {
   "cell_type": "markdown",
   "id": "03932d50",
   "metadata": {},
   "source": [
    "You can use any language that you feel confident to solve the\n",
    "problem. Each question has many solutions, find the best solution and explain your\n",
    "solution, find the complexity of this solution (BigO)?"
   ]
  },
  {
   "cell_type": "markdown",
   "id": "4b96b618",
   "metadata": {},
   "source": [
    "## Question 4"
   ]
  },
  {
   "cell_type": "markdown",
   "id": "e7b03b5b",
   "metadata": {},
   "source": [
    "We have an array of n elements A[1..n]. This array contains n different numbers from 0 to n. Given that there are totally n + 1 numbers from 0 to n, there is a missing number."
   ]
  },
  {
   "cell_type": "markdown",
   "id": "f1911105",
   "metadata": {},
   "source": [
    "Example:\n",
    "- array: [0, 1, 2, 4]. The missing number is 3.\n",
    "- array: [1, 4, 2, 3]. The missing number is 0."
   ]
  },
  {
   "cell_type": "markdown",
   "id": "da655d4a",
   "metadata": {},
   "source": [
    "### Solution\n",
    "- Step 1: Calculate n = the length of input array\n",
    "- Step 2: Find the total sum of n natural number is total_sum = n*(n+1)/2\n",
    "- Step 3: Find the sum of the elements in array\n",
    "- Step 4: Missing number = total_sum - sum of elements in array\n",
    "\n",
    "- The complexity of this Solution is O(n) because we only traverse the array once at step 3"
   ]
  },
  {
   "cell_type": "code",
   "execution_count": 1,
   "id": "ce03093e",
   "metadata": {},
   "outputs": [],
   "source": [
    "def Missing_Number(array):\n",
    "    \"\"\"\n",
    "    Input: array, data_type: list\n",
    "    Output: missing number, data_type: int\n",
    "    \"\"\"\n",
    "    # Step 1\n",
    "    n = len(array)\n",
    "    \n",
    "    # Step 2\n",
    "    total_sum = n*(n+1)/2\n",
    "    \n",
    "    # Step 3\n",
    "    arr_sum = 0\n",
    "    for i in range(len(array)):\n",
    "        arr_sum += array[i]\n",
    "    \n",
    "    #Step 4\n",
    "    missing_number = total_sum - arr_sum\n",
    "    return int(missing_number)"
   ]
  },
  {
   "cell_type": "code",
   "execution_count": 2,
   "id": "24be0345",
   "metadata": {},
   "outputs": [
    {
     "name": "stdout",
     "output_type": "stream",
     "text": [
      "The missing number is 3\n"
     ]
    }
   ],
   "source": [
    "# Example 1\n",
    "A = [0, 1, 2, 4]\n",
    "miss = Missing_Number(A)\n",
    "print(\"The missing number is\", miss)"
   ]
  },
  {
   "cell_type": "code",
   "execution_count": 3,
   "id": "272e914e",
   "metadata": {},
   "outputs": [
    {
     "name": "stdout",
     "output_type": "stream",
     "text": [
      "The missing number is 0\n"
     ]
    }
   ],
   "source": [
    "# Example 1\n",
    "A = [1, 4, 2, 3]\n",
    "miss = Missing_Number(A)\n",
    "print(\"The missing number is\", miss)"
   ]
  },
  {
   "cell_type": "markdown",
   "id": "eced57f2",
   "metadata": {},
   "source": [
    "## Question 5"
   ]
  },
  {
   "cell_type": "markdown",
   "id": "a2c74ec1",
   "metadata": {},
   "source": [
    "Given 2 sorted arrays `nums1` and `nums2` of size `m` and `n` respectively, return the median of the 2 sorted arrays."
   ]
  },
  {
   "cell_type": "markdown",
   "id": "8061fc23",
   "metadata": {},
   "source": [
    "Example:\n",
    "- nums1 = [1, 3, 6]; nums2 = [1, 2, 10] => Merged array: [1, 1, 2, 3, 6, 10]. Median is (2 + 3)/2 = 2.5\n",
    "- nums1 = [1, 3]; nums2 = [1, 2, 10] => Merged array: [1, 1, 2, 3, 10]. Median is 2"
   ]
  },
  {
   "cell_type": "markdown",
   "id": "19c75f0b",
   "metadata": {},
   "source": [
    "### Solution:"
   ]
  },
  {
   "cell_type": "markdown",
   "id": "a09c2f80",
   "metadata": {},
   "source": [
    "- Step 1: Merge 2 arrays\n",
    "- Step 2: Sort the merged array using merge sort\n",
    "- Step 3: Calculate length of the merged sorted array n\n",
    "- Step 4: Find the index = (n + 1)//2\n",
    "- Step 5: If n is even => Median = (array[idx - 1] + array[idx])/2 \n",
    "        If n is odd => Median = array[idx-1]"
   ]
  },
  {
   "cell_type": "markdown",
   "id": "55ee12d8",
   "metadata": {},
   "source": [
    "The complexity of this solution is O(nlogn) = big O of mergeSort algorithm at step 3"
   ]
  },
  {
   "cell_type": "code",
   "execution_count": 4,
   "id": "68688be4",
   "metadata": {},
   "outputs": [],
   "source": [
    "# mergeSort function\n",
    "def mergeSort(array):\n",
    "    if len(array) > 1:\n",
    "        \n",
    "        # Find the middle of array\n",
    "        middle = len(array)//2\n",
    "        \n",
    "        # Divide elements of array to 2 temp array Left and Right\n",
    "        Left = array[:middle]\n",
    "        Right = array[middle:]\n",
    "        \n",
    "        # Sorting\n",
    "        mergeSort(Left)\n",
    "        mergeSort(Right)\n",
    "        \n",
    "        i = j = k = 0\n",
    "        \n",
    "        # Copy data from Left and Right to merge array\n",
    "        while i < len(Left) and j < len(Right):\n",
    "            if Left[i] < Right[j]:\n",
    "                array[k] = Left[i]\n",
    "                i += 1\n",
    "            else:\n",
    "                array[k] = Right[j]\n",
    "                j += 1\n",
    "            k += 1\n",
    "            \n",
    "        # Checking if any element was left\n",
    "        while i < len(Left):\n",
    "            array[k] = Left[i]\n",
    "            i += 1\n",
    "            k += 1\n",
    "            \n",
    "        while j < len(Right):\n",
    "            array[k] = Right[j]\n",
    "            j += 1\n",
    "            k += 1\n",
    "    return array"
   ]
  },
  {
   "cell_type": "code",
   "execution_count": 5,
   "id": "ad95bd07",
   "metadata": {},
   "outputs": [],
   "source": [
    "# Find Median function\n",
    "def findMedian(nums1, nums2):\n",
    "    # Step 1\n",
    "    array = nums1 + nums2\n",
    "    \n",
    "    # Step 2\n",
    "    array = mergeSort(array)\n",
    "    \n",
    "    # Step 3 & 4\n",
    "    n = len(array)\n",
    "    idx = (n+1)//2\n",
    "    \n",
    "    # Step 5\n",
    "    if (n % 2) == 0:\n",
    "        median = (array[idx-1] + array[idx])/2\n",
    "    else:\n",
    "        median = array[idx-1]\n",
    "    return median"
   ]
  },
  {
   "cell_type": "code",
   "execution_count": 6,
   "id": "debf21af",
   "metadata": {},
   "outputs": [
    {
     "name": "stdout",
     "output_type": "stream",
     "text": [
      "Median is 2.5\n"
     ]
    }
   ],
   "source": [
    "# Examples 1\n",
    "nums1 = [1, 3, 6]\n",
    "nums2 = [1, 2, 10]\n",
    "median = findMedian(nums1, nums2)\n",
    "print(\"Median is\", median)"
   ]
  },
  {
   "cell_type": "code",
   "execution_count": 7,
   "id": "f3bbc47e",
   "metadata": {},
   "outputs": [
    {
     "name": "stdout",
     "output_type": "stream",
     "text": [
      "Median is 2\n"
     ]
    }
   ],
   "source": [
    "# Examples 2\n",
    "nums1 = [1, 3]\n",
    "nums2 = [1, 2, 10]\n",
    "median = findMedian(nums1, nums2)\n",
    "print(\"Median is\", median)"
   ]
  },
  {
   "cell_type": "markdown",
   "id": "374776a4",
   "metadata": {},
   "source": [
    "# Question 6"
   ]
  },
  {
   "cell_type": "markdown",
   "id": "fd8751a9",
   "metadata": {},
   "source": [
    "Given the head of a sorted linked list, delete all duplicates such that each\n",
    "element appears only once. Return the linked list sorted as well."
   ]
  },
  {
   "cell_type": "markdown",
   "id": "9fd6fd06",
   "metadata": {},
   "source": [
    "Example:\n",
    "- head = [2, 2, 5] => [2, 5]\n",
    "- head = [1, 1, 3, 4, 4, 5, 6, 6] => [1, 3, 4, 5, 6]"
   ]
  },
  {
   "cell_type": "markdown",
   "id": "0c349654",
   "metadata": {},
   "source": [
    "### Solution"
   ]
  },
  {
   "cell_type": "markdown",
   "id": "632b020a",
   "metadata": {},
   "source": [
    "- Traverse linked list from the head and compare each node with its next node. \n",
    "- If the data of next node = current node => Delete next node."
   ]
  },
  {
   "cell_type": "markdown",
   "id": "89710f1a",
   "metadata": {},
   "source": [
    "The complexity of this solution is O(n) because we only traverse the linked list once"
   ]
  },
  {
   "cell_type": "code",
   "execution_count": 8,
   "id": "323216e7",
   "metadata": {},
   "outputs": [],
   "source": [
    "# Node class\n",
    "class Node:\n",
    "    def __init__(self, data):\n",
    "        self.data = data\n",
    "        self.pointer = None"
   ]
  },
  {
   "cell_type": "code",
   "execution_count": 9,
   "id": "d61fa0eb",
   "metadata": {},
   "outputs": [],
   "source": [
    "# Linked List class\n",
    "class LinkedList:\n",
    "    # Initialize head\n",
    "    def __init__(self):\n",
    "        self.head = None\n",
    "    \n",
    "    # Function to insert new node at the beginning\n",
    "    def push(self, new_data):\n",
    "        new_node = Node(new_data)\n",
    "        new_node.pointer = self.head\n",
    "        self.head = new_node\n",
    "        \n",
    "    # Delete node\n",
    "    def deleteNode(self, key):\n",
    "        \n",
    "        # Store head node\n",
    "        temp = self.head\n",
    "        \n",
    "        # If head node holds the key to be deleted\n",
    "        if (temp is not None):\n",
    "            if (temp.data == key):\n",
    "                self.head = temp.pointer\n",
    "                temp = None\n",
    "                return\n",
    "            \n",
    "        # Else we search for the key to be deleted\n",
    "        while (temp is not None):\n",
    "            if temp.data == key:\n",
    "                break\n",
    "            prev = temp\n",
    "            temp = temp.pointer\n",
    "            \n",
    "        # If key not in linked list\n",
    "        if (temp == None):\n",
    "            return\n",
    "        \n",
    "        # Unlink the node from linked list\n",
    "        prev.pointer = temp.pointer\n",
    "        temp = None\n",
    "        \n",
    "    def printList(self):\n",
    "        temp = self.head\n",
    "        while(temp):\n",
    "            print(temp.data, end = ' ')\n",
    "            temp = temp.pointer\n",
    "            \n",
    "    # Remove duplicates from a sorted linked list\n",
    "    def removeDuplicates(self):\n",
    "        temp = self.head\n",
    "        if temp is None:\n",
    "            return\n",
    "        \n",
    "        while temp.pointer is not None:\n",
    "            if temp.data == temp.pointer.data:\n",
    "                new = temp.pointer.pointer\n",
    "                temp.pointer = None\n",
    "                temp.pointer = new\n",
    "            else:\n",
    "                temp = temp.pointer\n",
    "        return self.head"
   ]
  },
  {
   "cell_type": "code",
   "execution_count": 10,
   "id": "7a6ec5c3",
   "metadata": {},
   "outputs": [
    {
     "name": "stdout",
     "output_type": "stream",
     "text": [
      "Linked List before: \n",
      "2 2 5 \n",
      " Linked List after: \n",
      "2 5 "
     ]
    }
   ],
   "source": [
    "# Example 1\n",
    "linked_list = LinkedList()\n",
    "linked_list.push(5)\n",
    "linked_list.push(2)\n",
    "linked_list.push(2)\n",
    "print(\"Linked List before: \")\n",
    "linked_list.printList()\n",
    "\n",
    "print(\"\\n Linked List after: \")\n",
    "linked_list.removeDuplicates()\n",
    "linked_list.printList()"
   ]
  },
  {
   "cell_type": "code",
   "execution_count": 11,
   "id": "e7a0a411",
   "metadata": {},
   "outputs": [
    {
     "name": "stdout",
     "output_type": "stream",
     "text": [
      "Linked List before: \n",
      "1 1 3 4 4 5 6 6 \n",
      " Linked List after: \n",
      "1 3 4 5 6 "
     ]
    }
   ],
   "source": [
    "# Example 2\n",
    "linked_list = LinkedList()\n",
    "linked_list.push(6)\n",
    "linked_list.push(6)\n",
    "linked_list.push(5)\n",
    "linked_list.push(4)\n",
    "linked_list.push(4)\n",
    "linked_list.push(3)\n",
    "linked_list.push(1)\n",
    "linked_list.push(1)\n",
    "print(\"Linked List before: \")\n",
    "linked_list.printList()\n",
    "\n",
    "print(\"\\n Linked List after: \")\n",
    "linked_list.removeDuplicates()\n",
    "linked_list.printList()"
   ]
  },
  {
   "cell_type": "code",
   "execution_count": null,
   "id": "107ec8fb",
   "metadata": {},
   "outputs": [],
   "source": []
  }
 ],
 "metadata": {
  "kernelspec": {
   "display_name": "Python 3 (ipykernel)",
   "language": "python",
   "name": "python3"
  },
  "language_info": {
   "codemirror_mode": {
    "name": "ipython",
    "version": 3
   },
   "file_extension": ".py",
   "mimetype": "text/x-python",
   "name": "python",
   "nbconvert_exporter": "python",
   "pygments_lexer": "ipython3",
   "version": "3.9.7"
  }
 },
 "nbformat": 4,
 "nbformat_minor": 5
}
